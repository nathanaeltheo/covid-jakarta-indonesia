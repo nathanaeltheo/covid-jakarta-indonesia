{
 "cells": [
  {
   "cell_type": "code",
   "execution_count": null,
   "id": "9ba09148",
   "metadata": {},
   "outputs": [],
   "source": [
    "# Importation\n",
    "import pandas as pd\n",
    "import numpy as np\n",
    "import matplotlib\n",
    "import matplotlib.pyplot as plt\n",
    "import plotly.express as px\n",
    "import tensorflow as tf"
   ]
  },
  {
   "cell_type": "code",
   "execution_count": null,
   "id": "d32e8815",
   "metadata": {
    "scrolled": true
   },
   "outputs": [],
   "source": [
    "# Data\n",
    "data = pd.read_csv('C:/Users/mnauf/Harits/Coding/covid_19_indonesia_time_series_all.csv')\n",
    "data.head()"
   ]
  },
  {
   "cell_type": "code",
   "execution_count": null,
   "id": "25e46f8b",
   "metadata": {
    "scrolled": true
   },
   "outputs": [],
   "source": [
    "# choose only Jakarta\n",
    "df=data.loc[data['Location'] == 'DKI Jakarta']\n",
    "df1=df[['Date', 'New Cases']]\n",
    "df2=df[['Date', 'New Deaths']]"
   ]
  },
  {
   "cell_type": "code",
   "execution_count": null,
   "id": "51b9a16f",
   "metadata": {},
   "outputs": [],
   "source": [
    "df1.head()"
   ]
  },
  {
   "cell_type": "code",
   "execution_count": null,
   "id": "4e975aaa",
   "metadata": {},
   "outputs": [],
   "source": [
    "df1.shape()"
   ]
  },
  {
   "cell_type": "code",
   "execution_count": null,
   "id": "9838ac25",
   "metadata": {},
   "outputs": [],
   "source": [
    "df2.head()"
   ]
  },
  {
   "cell_type": "code",
   "execution_count": null,
   "id": "f0ccfff1",
   "metadata": {},
   "outputs": [],
   "source": [
    "df2.shape()"
   ]
  },
  {
   "cell_type": "code",
   "execution_count": null,
   "id": "67ad803c",
   "metadata": {},
   "outputs": [],
   "source": [
    "# save to file\n",
    "df1.to_csv('new_cases_jakarta.csv')\n",
    "df2.to_csv('new_deaths_jakarta.csv')"
   ]
  },
  {
   "cell_type": "code",
   "execution_count": null,
   "id": "b10d7b48",
   "metadata": {},
   "outputs": [],
   "source": [
    "# load dataset for New Cases\n",
    "data1 = pd.read_csv('new_cases_jakarta.csv', header=0, index_col=0)\n",
    "list_date1=data1['Date'].tolist()\n",
    "list_series1=data1['New Cases'].tolist()\n",
    "series1 = np.array(list_series1)\n",
    "date1 = np.array(list_date1)"
   ]
  },
  {
   "cell_type": "code",
   "execution_count": null,
   "id": "73ddd259",
   "metadata": {},
   "outputs": [],
   "source": [
    "# plot column\n",
    "plt.figure(figsize=(10, 6))\n",
    "plot_series(date1, series1)\n",
    "plt.title('New Cases Jakarta')\n",
    "plt.show()"
   ]
  },
  {
   "cell_type": "code",
   "execution_count": null,
   "id": "1e7f276a",
   "metadata": {},
   "outputs": [],
   "source": [
    "# load dataset for New Deaths\n",
    "data2 = pd.read_csv('new_deaths_jakarta.csv', header=0, index_col=0)\n",
    "list_date2 = data2['Date'].tolist()\n",
    "list_series2 = data2['New Cases'].tolist()\n",
    "series2 = np.array(list_series2)\n",
    "date2 = np.array(list_date2)"
   ]
  },
  {
   "cell_type": "code",
   "execution_count": null,
   "id": "17e10dd1",
   "metadata": {},
   "outputs": [],
   "source": [
    "# plot column\n",
    "plt.figure(figsize=(10, 6))\n",
    "plot_series(date2, series2)\n",
    "plt.title('New Deaths Jakarta')\n",
    "plt.show()"
   ]
  },
  {
   "cell_type": "code",
   "execution_count": null,
   "id": "4ad29abb",
   "metadata": {},
   "outputs": [],
   "source": [
    "#Split data for training and validation\n",
    "split_time = 2500\n",
    "time_train = time[:split_time]\n",
    "x_train = series[:split_time]\n",
    "time_valid = time[split_time:]\n",
    "x_valid = series[split_time:]\n",
    "\n",
    "window_size = 30\n",
    "batch_size = 32\n",
    "shuffle_buffer_size = 1000"
   ]
  },
  {
   "cell_type": "code",
   "execution_count": null,
   "id": "8a4521ef",
   "metadata": {},
   "outputs": [],
   "source": [
    "#Create variable to window dataset\n",
    "def windowed_dataset(series, window_size, batch_size, shuffle_buffer):\n",
    "    series = tf.expand_dims(series, axis=-1)\n",
    "    ds = tf.data.Dataset.from_tensor_slices(series)\n",
    "    ds = ds.window(window_size + 1, shift=1, drop_remainder=True)\n",
    "    ds = ds.flat_map(lambda w: w.batch(window_size + 1))\n",
    "    ds = ds.shuffle(shuffle_buffer)\n",
    "    ds = ds.map(lambda w: (w[:-1], w[1:]))\n",
    "    return ds.batch(batch_size).prefetch(1)"
   ]
  },
  {
   "cell_type": "code",
   "execution_count": null,
   "id": "81bdfb27",
   "metadata": {},
   "outputs": [],
   "source": [
    "#Create variable to forecast\n",
    "def model_forecast(model, series, window_size):\n",
    "    ds = tf.data.Dataset.from_tensor_slices(series)\n",
    "    ds = ds.window(window_size, shift=1, drop_remainder=True)\n",
    "    ds = ds.flat_map(lambda w: w.batch(window_size))\n",
    "    ds = ds.batch(32).prefetch(1)\n",
    "    forecast = model.predict(ds)\n",
    "    return forecast"
   ]
  },
  {
   "cell_type": "code",
   "execution_count": null,
   "id": "d34f8146",
   "metadata": {},
   "outputs": [],
   "source": [
    "#Find the best learning rate\n",
    "tf.keras.backend.clear_session()\n",
    "tf.random.set_seed(51)\n",
    "np.random.seed(51)\n",
    "window_size = 64\n",
    "batch_size = 256\n",
    "train_set = windowed_dataset(x_train, window_size, batch_size, shuffle_buffer_size)\n",
    "print(train_set)\n",
    "print(x_train.shape)\n",
    "\n",
    "model = tf.keras.models.Sequential([\n",
    "  tf.keras.layers.Conv1D(filters=32, kernel_size=5,\n",
    "                      strides=1, padding=\"causal\",\n",
    "                      activation=\"relu\",\n",
    "                      input_shape=[None, 1]),\n",
    "  tf.keras.layers.LSTM(64, return_sequences=True),\n",
    "  tf.keras.layers.LSTM(64, return_sequences=True),\n",
    "  tf.keras.layers.Dense(30, activation=\"relu\"),\n",
    "  tf.keras.layers.Dense(10, activation=\"relu\"),\n",
    "  tf.keras.layers.Dense(1),\n",
    "  tf.keras.layers.Lambda(lambda x: x * 400)\n",
    "])\n",
    "\n",
    "lr_schedule = tf.keras.callbacks.LearningRateScheduler(\n",
    "    lambda epoch: 1e-8 * 10**(epoch / 20))\n",
    "optimizer = tf.keras.optimizers.SGD(lr=1e-8, momentum=0.9)\n",
    "model.compile(loss=tf.keras.losses.Huber(),\n",
    "              optimizer=optimizer,\n",
    "              metrics=[\"mae\"])\n",
    "history = model.fit(train_set, epochs=100, callbacks=[lr_schedule])"
   ]
  },
  {
   "cell_type": "code",
   "execution_count": null,
   "id": "4a35e021",
   "metadata": {},
   "outputs": [],
   "source": [
    "#Plot graph to see each learning rate loss\n",
    "plt.semilogx(history.history[\"lr\"], history.history[\"loss\"])\n",
    "plt.axis([1e-8, 1e-4, 0, 60])"
   ]
  },
  {
   "cell_type": "code",
   "execution_count": null,
   "id": "50f5e5a9",
   "metadata": {},
   "outputs": [],
   "source": [
    "#Use the best learning rate to train the model\n",
    "tf.keras.backend.clear_session()\n",
    "tf.random.set_seed(51)\n",
    "np.random.seed(51)\n",
    "train_set = windowed_dataset(x_train, window_size=60, batch_size=100, shuffle_buffer=shuffle_buffer_size)\n",
    "model = tf.keras.models.Sequential([\n",
    "  tf.keras.layers.Conv1D(filters=60, kernel_size=5,\n",
    "                      strides=1, padding=\"causal\",\n",
    "                      activation=\"relu\",\n",
    "                      input_shape=[None, 1]),\n",
    "  tf.keras.layers.LSTM(60, return_sequences=True),\n",
    "  tf.keras.layers.LSTM(60, return_sequences=True),\n",
    "  tf.keras.layers.Dense(30, activation=\"relu\"),\n",
    "  tf.keras.layers.Dense(10, activation=\"relu\"),\n",
    "  tf.keras.layers.Dense(1),\n",
    "  tf.keras.layers.Lambda(lambda x: x * 400)\n",
    "])\n",
    "\n",
    "\n",
    "optimizer = tf.keras.optimizers.SGD(lr=1e-5, momentum=0.9)\n",
    "model.compile(loss=tf.keras.losses.Huber(),\n",
    "              optimizer=optimizer,\n",
    "              metrics=[\"mae\"])\n",
    "history = model.fit(train_set,epochs=150)"
   ]
  },
  {
   "cell_type": "code",
   "execution_count": null,
   "id": "6b55f38e",
   "metadata": {},
   "outputs": [],
   "source": [
    "rnn_forecast = model_forecast(model, series[..., np.newaxis], window_size)\n",
    "rnn_forecast = rnn_forecast[split_time - window_size:-1, -1, 0]"
   ]
  },
  {
   "cell_type": "code",
   "execution_count": null,
   "id": "7285b4b1",
   "metadata": {},
   "outputs": [],
   "source": [
    "#Plot forecasted data to the validation dataset\n",
    "plt.figure(figsize=(10, 6))\n",
    "plot_series(time_valid, x_valid)\n",
    "plot_series(time_valid, rnn_forecast)"
   ]
  },
  {
   "cell_type": "code",
   "execution_count": null,
   "id": "076f916f",
   "metadata": {},
   "outputs": [],
   "source": [
    "#Check mean absolute error\n",
    "tf.keras.metrics.mean_absolute_error(x_valid, rnn_forecast).numpy()"
   ]
  }
 ],
 "metadata": {
  "kernelspec": {
   "display_name": "Python 3",
   "language": "python",
   "name": "python3"
  },
  "language_info": {
   "codemirror_mode": {
    "name": "ipython",
    "version": 3
   },
   "file_extension": ".py",
   "mimetype": "text/x-python",
   "name": "python",
   "nbconvert_exporter": "python",
   "pygments_lexer": "ipython3",
   "version": "3.8.11"
  }
 },
 "nbformat": 4,
 "nbformat_minor": 5
}
